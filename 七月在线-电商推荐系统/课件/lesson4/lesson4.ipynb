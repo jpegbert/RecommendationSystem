{
 "cells": [
  {
   "cell_type": "markdown",
   "metadata": {},
   "source": [
    "# Neural_Collaborative_Filtering"
   ]
  },
  {
   "cell_type": "markdown",
   "metadata": {},
   "source": [
    "### [论文](https://www.comp.nus.edu.sg/~xiangnan/papers/ncf.pdf)"
   ]
  },
  {
   "cell_type": "markdown",
   "metadata": {},
   "source": [
    "### [笔记](https://www.jianshu.com/p/55ac8bec28c5)"
   ]
  },
  {
   "cell_type": "markdown",
   "metadata": {},
   "source": [
    "### [Keras代码](https://github.com/hexiangnan/neural_collaborative_filtering)"
   ]
  },
  {
   "cell_type": "markdown",
   "metadata": {},
   "source": [
    "如果你的电脑当安装的 keras 版本不是1.0.7，请先卸载：pip uninstall keras，若之前没有安装过 keras 则忽略卸载操作。\n",
    "\n",
    "安装 Kears：打开命令行窗口，输入 pip install keras==1.0.7\n",
    "\n",
    "代码已下载至本地，运行命令如下：<font color=red>（代码运行时间会十分漫长...）</font>"
   ]
  },
  {
   "cell_type": "code",
   "execution_count": null,
   "metadata": {
    "collapsed": true
   },
   "outputs": [],
   "source": [
    "!python MLP.py  --dataset ml-1m\\\n",
    "                --epochs 20\\\n",
    "                --batch_size 256\\\n",
    "                --layers [64,32,16,8]\\\n",
    "                --reg_layers [0,0,0,0]\\\n",
    "                --num_neg 4 --lr 0.001\\\n",
    "                --learner adam\\\n",
    "                --verbose 1\\\n",
    "                --out 1"
   ]
  },
  {
   "cell_type": "code",
   "execution_count": null,
   "metadata": {
    "collapsed": true
   },
   "outputs": [],
   "source": [
    "!python GMF.py  --dataset ml-1m\\\n",
    "                --epochs 20\\\n",
    "                --batch_size 256\\\n",
    "                --num_factors 8\\\n",
    "                --regs [0,0]\\\n",
    "                --num_neg 4\\\n",
    "                --lr 0.001\\\n",
    "                --learner adam\\\n",
    "                --verbose 1\\\n",
    "                --out 1"
   ]
  },
  {
   "cell_type": "code",
   "execution_count": null,
   "metadata": {
    "collapsed": true
   },
   "outputs": [],
   "source": [
    "!python NeuMF.py    --dataset ml-1m\\\n",
    "                    --epochs 20\\\n",
    "                    --batch_size 256\\\n",
    "                    --num_factors 8\\\n",
    "                    --layers [64,32,16,8]\\\n",
    "                    --reg_mf 0\\\n",
    "                    --reg_layers [0,0,0,0]\\\n",
    "                    --num_neg 4\\\n",
    "                    --lr 0.001\\\n",
    "                    --learner adam\\\n",
    "                    --verbose 1\\\n",
    "                    --out 1"
   ]
  }
 ],
 "metadata": {
  "kernelspec": {
   "display_name": "Python 3",
   "language": "python",
   "name": "python3"
  },
  "language_info": {
   "codemirror_mode": {
    "name": "ipython",
    "version": 3
   },
   "file_extension": ".py",
   "mimetype": "text/x-python",
   "name": "python",
   "nbconvert_exporter": "python",
   "pygments_lexer": "ipython3",
   "version": "3.6.3"
  },
  "toc": {
   "base_numbering": 1,
   "nav_menu": {},
   "number_sections": false,
   "sideBar": true,
   "skip_h1_title": false,
   "title_cell": "Table of Contents",
   "title_sidebar": "Contents",
   "toc_cell": false,
   "toc_position": {},
   "toc_section_display": true,
   "toc_window_display": false
  }
 },
 "nbformat": 4,
 "nbformat_minor": 2
}
