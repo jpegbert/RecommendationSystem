{
 "cells": [
  {
   "cell_type": "markdown",
   "metadata": {},
   "source": [
    "## 代码运行环境"
   ]
  },
  {
   "cell_type": "markdown",
   "metadata": {},
   "source": [
    "如果你的电脑当安装的 keras 版本不是2.0.8，请先卸载：pip uninstall keras，若之前没有安装过 keras 则忽略卸载操作。\n",
    "\n",
    "安装 Kears：打开命令行窗口，输入 pip install keras==2.0.8"
   ]
  },
  {
   "cell_type": "code",
   "execution_count": 1,
   "metadata": {
    "scrolled": false
   },
   "outputs": [
    {
     "name": "stderr",
     "output_type": "stream",
     "text": [
      "Using TensorFlow backend.\n",
      "[INFO] reading data\n",
      "[INFO] Pretraining the layer: Input dim 3 -> Output dim 16\n"
     ]
    },
    {
     "name": "stdout",
     "output_type": "stream",
     "text": [
      "Epoch 1/10\n",
      "0s - loss: 3362886.2324\n",
      "Epoch 2/10\n",
      "0s - loss: 3362452.3468\n",
      "Epoch 3/10\n",
      "0s - loss: 3362123.6396\n",
      "Epoch 4/10\n",
      "0s - loss: 3361895.1687\n",
      "Epoch 5/10\n",
      "0s - loss: 3361752.7117\n",
      "Epoch 6/10\n",
      "0s - loss: 3361672.9365\n",
      "Epoch 7/10\n",
      "0s - loss: 3361628.6499\n",
      "Epoch 8/10\n",
      "0s - loss: 3361603.0986\n",
      "Epoch 9/10\n",
      "0s - loss: 3361591.5723\n",
      "Epoch 10/10\n",
      "0s - loss: 3361585.5238\n"
     ]
    },
    {
     "name": "stderr",
     "output_type": "stream",
     "text": [
      "[INFO] Pretraining the layer: Input dim 16 -> Output dim 8\n"
     ]
    },
    {
     "name": "stdout",
     "output_type": "stream",
     "text": [
      "Epoch 1/10\n",
      "0s - loss: 0.2426\n",
      "Epoch 2/10\n",
      "0s - loss: 0.1842\n",
      "Epoch 3/10\n",
      "0s - loss: 0.1397\n",
      "Epoch 4/10\n",
      "0s - loss: 0.1114\n",
      "Epoch 5/10\n",
      "0s - loss: 0.0970\n",
      "Epoch 6/10\n",
      "0s - loss: 0.0898\n",
      "Epoch 7/10\n",
      "0s - loss: 0.0857\n",
      "Epoch 8/10\n",
      "0s - loss: 0.0832\n",
      "Epoch 9/10\n",
      "0s - loss: 0.0815\n",
      "Epoch 10/10\n",
      "0s - loss: 0.0804\n",
      "Train on 800167 samples, validate on 200042 samples\n",
      "Epoch 1/3\n",
      "800167/800167 [==============================] - 45s - loss: 320011.5682 - dot_layer_loss: 0.7394 - model_3_loss: 3198583.4749 - val_loss: 311579.5985 - val_dot_layer_loss: 0.5743 - val_model_3_loss: 3115789.5686\n",
      "Epoch 2/3\n",
      "800167/800167 [==============================] - 45s - loss: 319858.8821 - dot_layer_loss: 0.4799 - model_3_loss: 3198583.4537 - val_loss: 311579.5985 - val_dot_layer_loss: 0.5743 - val_model_3_loss: 3115789.5686\n",
      "Epoch 3/3\n",
      "800167/800167 [==============================] - 38s - loss: 319858.8785 - dot_layer_loss: 0.4800 - model_3_loss: 3198583.4535 - val_loss: 311579.5699 - val_dot_layer_loss: 0.5743 - val_model_3_loss: 3115789.5686\n",
      "Testing RMSE = 0.7578408718109131\n"
     ]
    }
   ],
   "source": [
    "# %load main.py\n",
    "import logging\n",
    "from utils import read_rating, read_feature\n",
    "from CDL import CollaborativeDeepLearning\n",
    "\n",
    "def main():\n",
    "    logging.info('reading data')\n",
    "    ratings = read_rating('ratings.dat')\n",
    "    data_num = len(ratings)\n",
    "    train_mat = ratings[:int(data_num*0.8)]\n",
    "    test_mat = ratings[int(data_num*0.8):]\n",
    "    item_mat = read_feature('movies.dat')\n",
    "    num_item_feat = item_mat.shape[1]\n",
    "\n",
    "    model = CollaborativeDeepLearning(item_mat, [num_item_feat, 16, 8])\n",
    "    model.pretrain(lamda_w=0.001, encoder_noise=0.3, epochs=10)\n",
    "    model_history = model.fineture(train_mat, test_mat, lamda_u=0.01, lamda_v=0.1, lamda_n=0.1, lr=0.01, epochs=3)\n",
    "    testing_rmse = model.getRMSE(test_mat)\n",
    "    print('Testing RMSE = {}'.format(testing_rmse))\n",
    "\n",
    "if __name__ == \"__main__\":\n",
    "    logging.basicConfig(level=logging.INFO, format='[%(levelname)s] %(message)s')\n",
    "    main()"
   ]
  }
 ],
 "metadata": {
  "kernelspec": {
   "display_name": "Python 3",
   "language": "python",
   "name": "python3"
  },
  "language_info": {
   "codemirror_mode": {
    "name": "ipython",
    "version": 3
   },
   "file_extension": ".py",
   "mimetype": "text/x-python",
   "name": "python",
   "nbconvert_exporter": "python",
   "pygments_lexer": "ipython3",
   "version": "3.6.3"
  },
  "toc": {
   "base_numbering": 1,
   "nav_menu": {},
   "number_sections": false,
   "sideBar": true,
   "skip_h1_title": false,
   "title_cell": "Table of Contents",
   "title_sidebar": "Contents",
   "toc_cell": false,
   "toc_position": {},
   "toc_section_display": true,
   "toc_window_display": false
  }
 },
 "nbformat": 4,
 "nbformat_minor": 2
}
